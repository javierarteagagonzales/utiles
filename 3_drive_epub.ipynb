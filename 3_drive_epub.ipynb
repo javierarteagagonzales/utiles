{
 "cells": [
  {
   "cell_type": "code",
   "execution_count": 4,
   "id": "c7e40d92-b6bc-4a48-9032-5c3cfb560b72",
   "metadata": {},
   "outputs": [
    {
     "name": "stdout",
     "output_type": "stream",
     "text": [
      "Collecting gdown\n",
      "  Downloading gdown-5.1.0-py3-none-any.whl (17 kB)\n",
      "Requirement already satisfied: requests[socks] in /home/javier/anaconda3/lib/python3.10/site-packages (from gdown) (2.28.1)\n",
      "Requirement already satisfied: beautifulsoup4 in /home/javier/anaconda3/lib/python3.10/site-packages (from gdown) (4.11.1)\n",
      "Requirement already satisfied: tqdm in /home/javier/anaconda3/lib/python3.10/site-packages (from gdown) (4.64.1)\n",
      "Requirement already satisfied: filelock in /home/javier/anaconda3/lib/python3.10/site-packages (from gdown) (3.9.0)\n",
      "Requirement already satisfied: soupsieve>1.2 in /home/javier/anaconda3/lib/python3.10/site-packages (from beautifulsoup4->gdown) (2.3.2.post1)\n",
      "Requirement already satisfied: idna<4,>=2.5 in /home/javier/anaconda3/lib/python3.10/site-packages (from requests[socks]->gdown) (3.4)\n",
      "Requirement already satisfied: urllib3<1.27,>=1.21.1 in /home/javier/anaconda3/lib/python3.10/site-packages (from requests[socks]->gdown) (1.26.14)\n",
      "Requirement already satisfied: charset-normalizer<3,>=2 in /home/javier/anaconda3/lib/python3.10/site-packages (from requests[socks]->gdown) (2.0.4)\n",
      "Requirement already satisfied: certifi>=2017.4.17 in /home/javier/anaconda3/lib/python3.10/site-packages (from requests[socks]->gdown) (2022.12.7)\n",
      "Requirement already satisfied: PySocks!=1.5.7,>=1.5.6 in /home/javier/anaconda3/lib/python3.10/site-packages (from requests[socks]->gdown) (1.7.1)\n",
      "Installing collected packages: gdown\n",
      "Successfully installed gdown-5.1.0\n"
     ]
    }
   ],
   "source": [
    "!pip install gdown"
   ]
  },
  {
   "cell_type": "code",
   "execution_count": 5,
   "id": "59d7509f-40fd-4f57-a968-de453906d81f",
   "metadata": {},
   "outputs": [
    {
     "name": "stderr",
     "output_type": "stream",
     "text": [
      "/home/javier/anaconda3/lib/python3.10/site-packages/gdown/parse_url.py:48: UserWarning: You specified a Google Drive link that is not the correct link to download a file. You might want to try `--fuzzy` option or the following url: https://drive.google.com/uc?id=None\n",
      "  warnings.warn(\n",
      "Downloading...\n",
      "From: https://drive.google.com/drive/folders/1lH2Q7cNnoo958R5A3MJVsgS3-vS-4_PD\n",
      "To: /home/javier/Documentos/GitHub/utiles/archivo.zip\n",
      "1.09MB [00:00, 5.31MB/s]\n"
     ]
    },
    {
     "ename": "BadZipFile",
     "evalue": "File is not a zip file",
     "output_type": "error",
     "traceback": [
      "\u001b[0;31m---------------------------------------------------------------------------\u001b[0m",
      "\u001b[0;31mBadZipFile\u001b[0m                                Traceback (most recent call last)",
      "Cell \u001b[0;32mIn[5], line 60\u001b[0m\n\u001b[1;32m     58\u001b[0m \u001b[38;5;28;01mimport\u001b[39;00m \u001b[38;5;21;01mzipfile\u001b[39;00m\n\u001b[1;32m     59\u001b[0m ruta_carpeta_drive \u001b[38;5;241m=\u001b[39m \u001b[38;5;124m'\u001b[39m\u001b[38;5;124mruta/a/tu/carpeta/con/epubs\u001b[39m\u001b[38;5;124m'\u001b[39m\n\u001b[0;32m---> 60\u001b[0m \u001b[38;5;28;01mwith\u001b[39;00m \u001b[43mzipfile\u001b[49m\u001b[38;5;241;43m.\u001b[39;49m\u001b[43mZipFile\u001b[49m\u001b[43m(\u001b[49m\u001b[43mnombre_archivo_destino\u001b[49m\u001b[43m,\u001b[49m\u001b[43m \u001b[49m\u001b[38;5;124;43m'\u001b[39;49m\u001b[38;5;124;43mr\u001b[39;49m\u001b[38;5;124;43m'\u001b[39;49m\u001b[43m)\u001b[49m \u001b[38;5;28;01mas\u001b[39;00m zip_ref:\n\u001b[1;32m     61\u001b[0m     zip_ref\u001b[38;5;241m.\u001b[39mextractall(ruta_carpeta_drive)\n",
      "File \u001b[0;32m~/anaconda3/lib/python3.10/zipfile.py:1267\u001b[0m, in \u001b[0;36mZipFile.__init__\u001b[0;34m(self, file, mode, compression, allowZip64, compresslevel, strict_timestamps)\u001b[0m\n\u001b[1;32m   1265\u001b[0m \u001b[38;5;28;01mtry\u001b[39;00m:\n\u001b[1;32m   1266\u001b[0m     \u001b[38;5;28;01mif\u001b[39;00m mode \u001b[38;5;241m==\u001b[39m \u001b[38;5;124m'\u001b[39m\u001b[38;5;124mr\u001b[39m\u001b[38;5;124m'\u001b[39m:\n\u001b[0;32m-> 1267\u001b[0m         \u001b[38;5;28;43mself\u001b[39;49m\u001b[38;5;241;43m.\u001b[39;49m\u001b[43m_RealGetContents\u001b[49m\u001b[43m(\u001b[49m\u001b[43m)\u001b[49m\n\u001b[1;32m   1268\u001b[0m     \u001b[38;5;28;01melif\u001b[39;00m mode \u001b[38;5;129;01min\u001b[39;00m (\u001b[38;5;124m'\u001b[39m\u001b[38;5;124mw\u001b[39m\u001b[38;5;124m'\u001b[39m, \u001b[38;5;124m'\u001b[39m\u001b[38;5;124mx\u001b[39m\u001b[38;5;124m'\u001b[39m):\n\u001b[1;32m   1269\u001b[0m         \u001b[38;5;66;03m# set the modified flag so central directory gets written\u001b[39;00m\n\u001b[1;32m   1270\u001b[0m         \u001b[38;5;66;03m# even if no files are added to the archive\u001b[39;00m\n\u001b[1;32m   1271\u001b[0m         \u001b[38;5;28mself\u001b[39m\u001b[38;5;241m.\u001b[39m_didModify \u001b[38;5;241m=\u001b[39m \u001b[38;5;28;01mTrue\u001b[39;00m\n",
      "File \u001b[0;32m~/anaconda3/lib/python3.10/zipfile.py:1334\u001b[0m, in \u001b[0;36mZipFile._RealGetContents\u001b[0;34m(self)\u001b[0m\n\u001b[1;32m   1332\u001b[0m     \u001b[38;5;28;01mraise\u001b[39;00m BadZipFile(\u001b[38;5;124m\"\u001b[39m\u001b[38;5;124mFile is not a zip file\u001b[39m\u001b[38;5;124m\"\u001b[39m)\n\u001b[1;32m   1333\u001b[0m \u001b[38;5;28;01mif\u001b[39;00m \u001b[38;5;129;01mnot\u001b[39;00m endrec:\n\u001b[0;32m-> 1334\u001b[0m     \u001b[38;5;28;01mraise\u001b[39;00m BadZipFile(\u001b[38;5;124m\"\u001b[39m\u001b[38;5;124mFile is not a zip file\u001b[39m\u001b[38;5;124m\"\u001b[39m)\n\u001b[1;32m   1335\u001b[0m \u001b[38;5;28;01mif\u001b[39;00m \u001b[38;5;28mself\u001b[39m\u001b[38;5;241m.\u001b[39mdebug \u001b[38;5;241m>\u001b[39m \u001b[38;5;241m1\u001b[39m:\n\u001b[1;32m   1336\u001b[0m     \u001b[38;5;28mprint\u001b[39m(endrec)\n",
      "\u001b[0;31mBadZipFile\u001b[0m: File is not a zip file"
     ]
    }
   ],
   "source": [
    "from ebooklib import epub\n",
    "from tabulate import tabulate\n",
    "import pandas as pd\n",
    "import os\n",
    "import gdown\n",
    "\n",
    "def descargar_archivos_desde_drive(url, nombre_archivo_destino):\n",
    "    gdown.download(url, nombre_archivo_destino, quiet=False)\n",
    "\n",
    "def extraer_metadatos_epub(ruta_carpeta):\n",
    "    # Lista para almacenar los metadatos de todos los EPUB\n",
    "    metadatos_totales = []\n",
    "\n",
    "    # Recorre todos los archivos en la carpeta\n",
    "    for archivo in os.listdir(ruta_carpeta):\n",
    "        if archivo.endswith(\".epub\"):\n",
    "            ruta_archivo = os.path.join(ruta_carpeta, archivo)\n",
    "\n",
    "            # Abre el archivo EPUB\n",
    "            libro = epub.read_epub(ruta_archivo)\n",
    "\n",
    "            # Crea un diccionario para almacenar los metadatos\n",
    "            metadatos = {\n",
    "                'Título': libro.get_metadata('DC', 'title'),\n",
    "                'Autores': ', '.join([autor[0] for autor in libro.get_metadata('DC', 'creator')]),\n",
    "                'Idioma': libro.get_metadata('DC', 'language'),\n",
    "                'Fecha de publicación': libro.get_metadata('DC', 'date'),\n",
    "                'Editorial': libro.get_metadata('DC', 'publisher'),\n",
    "                'Descripción': libro.get_metadata('DC', 'description'),\n",
    "                'Palabras clave': libro.get_metadata('DC', 'subject'),\n",
    "                'Derechos de autor': libro.get_metadata('DC', 'rights'),\n",
    "                'Identificador único': libro.get_metadata('DC', 'identifier'),\n",
    "            }\n",
    "\n",
    "            # Agrega los metadatos a la lista total\n",
    "            metadatos_totales.append(metadatos)\n",
    "\n",
    "    # Imprime la tabla de metadatos\n",
    "    if metadatos_totales:\n",
    "        tabla_metadatos = tabulate(metadatos_totales, headers=\"keys\", tablefmt=\"pretty\")\n",
    "        print(tabla_metadatos)\n",
    "\n",
    "        # Guarda los metadatos en un DataFrame y luego en un archivo CSV\n",
    "        df = pd.DataFrame(metadatos_totales)\n",
    "        df.to_csv(os.path.join(ruta_carpeta, 'metadatos_totales.csv'), index=False)\n",
    "        print(\"Metadatos totales guardados como 'metadatos_totales.csv'\")\n",
    "    else:\n",
    "        print(\"No se encontraron archivos EPUB en la carpeta.\")\n",
    "\n",
    "# URL del archivo ZIP en Google Drive que contiene los archivos EPUB\n",
    "url_drive = 'https://drive.google.com/drive/folders/1lH2Q7cNnoo958R5A3MJVsgS3-vS-4_PD'\n",
    "nombre_archivo_destino = 'archivo.zip'\n",
    "\n",
    "# Descarga el archivo ZIP desde Google Drive\n",
    "descargar_archivos_desde_drive(url_drive, nombre_archivo_destino)\n",
    "\n",
    "# Descomprime el archivo ZIP (puedes ajustar según la estructura del archivo)\n",
    "import zipfile\n",
    "ruta_carpeta_drive = 'ruta/a/tu/carpeta/con/epubs'\n",
    "with zipfile.ZipFile(nombre_archivo_destino, 'r') as zip_ref:\n",
    "    zip_ref.extractall(ruta_carpeta_drive)"
   ]
  },
  {
   "cell_type": "code",
   "execution_count": null,
   "id": "0aa90713-1468-4cd4-9793-3d90a392595a",
   "metadata": {},
   "outputs": [],
   "source": []
  }
 ],
 "metadata": {
  "kernelspec": {
   "display_name": "Python 3 (ipykernel)",
   "language": "python",
   "name": "python3"
  },
  "language_info": {
   "codemirror_mode": {
    "name": "ipython",
    "version": 3
   },
   "file_extension": ".py",
   "mimetype": "text/x-python",
   "name": "python",
   "nbconvert_exporter": "python",
   "pygments_lexer": "ipython3",
   "version": "3.10.9"
  }
 },
 "nbformat": 4,
 "nbformat_minor": 5
}
