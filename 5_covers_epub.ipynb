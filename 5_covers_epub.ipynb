{
 "cells": [
  {
   "cell_type": "code",
   "execution_count": 1,
   "id": "85372d10-ee7e-457d-aeb3-19d0002e1aef",
   "metadata": {},
   "outputs": [
    {
     "name": "stdout",
     "output_type": "stream",
     "text": [
      "Requirement already satisfied: EbookLib in /home/javier/anaconda3/lib/python3.10/site-packages (0.18)\n",
      "Requirement already satisfied: Pillow in /home/javier/anaconda3/lib/python3.10/site-packages (9.4.0)\n",
      "Requirement already satisfied: lxml in /home/javier/anaconda3/lib/python3.10/site-packages (from EbookLib) (4.9.1)\n",
      "Requirement already satisfied: six in /home/javier/anaconda3/lib/python3.10/site-packages (from EbookLib) (1.16.0)\n",
      "Note: you may need to restart the kernel to use updated packages.\n"
     ]
    }
   ],
   "source": [
    "pip install EbookLib Pillow"
   ]
  },
  {
   "cell_type": "code",
   "execution_count": 3,
   "id": "c1dc3882-44f6-49bc-ac30-70f99d6f4a5b",
   "metadata": {},
   "outputs": [
    {
     "name": "stdout",
     "output_type": "stream",
     "text": [
      "Collecting pyepub\n",
      "  Downloading pyepub-0.5.0.tar.gz (7.4 kB)\n",
      "  Preparing metadata (setup.py) ... \u001b[?25ldone\n",
      "\u001b[?25hRequirement already satisfied: six in /home/javier/anaconda3/lib/python3.10/site-packages (from pyepub) (1.16.0)\n",
      "Building wheels for collected packages: pyepub\n",
      "  Building wheel for pyepub (setup.py) ... \u001b[?25ldone\n",
      "\u001b[?25h  Created wheel for pyepub: filename=pyepub-0.5.0-py3-none-any.whl size=7349 sha256=5c43693acf8eade055e1fc196a6197a15adb5ba8a8099167a84a217317e371fc\n",
      "  Stored in directory: /home/javier/.cache/pip/wheels/89/60/ec/ce7fd328aadcf1c101e045210ead19195091cf2429cd9a628a\n",
      "Successfully built pyepub\n",
      "Installing collected packages: pyepub\n",
      "Successfully installed pyepub-0.5.0\n",
      "Note: you may need to restart the kernel to use updated packages.\n"
     ]
    }
   ],
   "source": [
    "pip install pyepub"
   ]
  },
  {
   "cell_type": "code",
   "execution_count": 5,
   "id": "4852105d-a434-4d1e-9676-c53742d564ba",
   "metadata": {},
   "outputs": [
    {
     "name": "stdout",
     "output_type": "stream",
     "text": [
      "Requirement already satisfied: pyepub in /home/javier/anaconda3/lib/python3.10/site-packages (0.5.0)\n",
      "Requirement already satisfied: six in /home/javier/anaconda3/lib/python3.10/site-packages (from pyepub) (1.16.0)\n",
      "Note: you may need to restart the kernel to use updated packages.\n"
     ]
    }
   ],
   "source": [
    "pip install pyepub"
   ]
  },
  {
   "cell_type": "code",
   "execution_count": 8,
   "id": "ed0b7f8c-3b4a-4775-8885-dff3b532fd57",
   "metadata": {},
   "outputs": [
    {
     "ename": "AttributeError",
     "evalue": "'EPUB' object has no attribute 'get_cover_path'",
     "output_type": "error",
     "traceback": [
      "\u001b[0;31m---------------------------------------------------------------------------\u001b[0m",
      "\u001b[0;31mAttributeError\u001b[0m                            Traceback (most recent call last)",
      "Cell \u001b[0;32mIn[8], line 21\u001b[0m\n\u001b[1;32m     19\u001b[0m \u001b[38;5;28;01mif\u001b[39;00m archivo\u001b[38;5;241m.\u001b[39mendswith(\u001b[38;5;124m\"\u001b[39m\u001b[38;5;124m.epub\u001b[39m\u001b[38;5;124m\"\u001b[39m):\n\u001b[1;32m     20\u001b[0m     ruta_archivo \u001b[38;5;241m=\u001b[39m os\u001b[38;5;241m.\u001b[39mpath\u001b[38;5;241m.\u001b[39mjoin(ruta_carpeta, archivo)\n\u001b[0;32m---> 21\u001b[0m     portada \u001b[38;5;241m=\u001b[39m \u001b[43mobtener_portada\u001b[49m\u001b[43m(\u001b[49m\u001b[43mruta_archivo\u001b[49m\u001b[43m)\u001b[49m\n",
      "Cell \u001b[0;32mIn[8], line 9\u001b[0m, in \u001b[0;36mobtener_portada\u001b[0;34m(ruta_archivo)\u001b[0m\n\u001b[1;32m      7\u001b[0m \u001b[38;5;28;01mdef\u001b[39;00m \u001b[38;5;21mobtener_portada\u001b[39m(ruta_archivo):\n\u001b[1;32m      8\u001b[0m     libro \u001b[38;5;241m=\u001b[39m pyepub\u001b[38;5;241m.\u001b[39mEPUB(ruta_archivo)\n\u001b[0;32m----> 9\u001b[0m     cover_path \u001b[38;5;241m=\u001b[39m \u001b[43mlibro\u001b[49m\u001b[38;5;241;43m.\u001b[39;49m\u001b[43mget_cover_path\u001b[49m()\n\u001b[1;32m     10\u001b[0m     \u001b[38;5;28;01mif\u001b[39;00m cover_path:\n\u001b[1;32m     11\u001b[0m         \u001b[38;5;28;01mwith\u001b[39;00m \u001b[38;5;28mopen\u001b[39m(cover_path, \u001b[38;5;124m\"\u001b[39m\u001b[38;5;124mrb\u001b[39m\u001b[38;5;124m\"\u001b[39m) \u001b[38;5;28;01mas\u001b[39;00m f:\n",
      "\u001b[0;31mAttributeError\u001b[0m: 'EPUB' object has no attribute 'get_cover_path'"
     ]
    }
   ],
   "source": [
    "import pyepub\n",
    "import os\n",
    "import matplotlib.pyplot as plt\n",
    "\n",
    "from pyepub import EPUB\n",
    "\n",
    "def obtener_portada(ruta_archivo):\n",
    "    libro = pyepub.EPUB(ruta_archivo)\n",
    "    cover_path = libro.get_cover_path()\n",
    "    if cover_path:\n",
    "        with open(cover_path, \"rb\") as f:\n",
    "            return f.read()\n",
    "    else:\n",
    "        return None\n",
    "\n",
    "ruta_carpeta = \"/home/javier/Descargas/meganmaxwelllibrosindependientesepub\"\n",
    "\n",
    "for archivo in os.listdir(ruta_carpeta):\n",
    "    if archivo.endswith(\".epub\"):\n",
    "        ruta_archivo = os.path.join(ruta_carpeta, archivo)\n",
    "        portada = obtener_portada(ruta_archivo)\n",
    "        "
   ]
  }
 ],
 "metadata": {
  "kernelspec": {
   "display_name": "Python 3 (ipykernel)",
   "language": "python",
   "name": "python3"
  },
  "language_info": {
   "codemirror_mode": {
    "name": "ipython",
    "version": 3
   },
   "file_extension": ".py",
   "mimetype": "text/x-python",
   "name": "python",
   "nbconvert_exporter": "python",
   "pygments_lexer": "ipython3",
   "version": "3.10.9"
  }
 },
 "nbformat": 4,
 "nbformat_minor": 5
}
