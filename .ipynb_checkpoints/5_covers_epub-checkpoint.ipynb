{
 "cells": [
  {
   "cell_type": "code",
   "execution_count": 1,
   "id": "85372d10-ee7e-457d-aeb3-19d0002e1aef",
   "metadata": {},
   "outputs": [
    {
     "name": "stdout",
     "output_type": "stream",
     "text": [
      "Requirement already satisfied: EbookLib in /home/javier/anaconda3/lib/python3.10/site-packages (0.18)\n",
      "Requirement already satisfied: Pillow in /home/javier/anaconda3/lib/python3.10/site-packages (9.4.0)\n",
      "Requirement already satisfied: lxml in /home/javier/anaconda3/lib/python3.10/site-packages (from EbookLib) (4.9.1)\n",
      "Requirement already satisfied: six in /home/javier/anaconda3/lib/python3.10/site-packages (from EbookLib) (1.16.0)\n",
      "Note: you may need to restart the kernel to use updated packages.\n"
     ]
    }
   ],
   "source": [
    "pip install EbookLib Pillow"
   ]
  },
  {
   "cell_type": "code",
   "execution_count": null,
   "id": "ed0b7f8c-3b4a-4775-8885-dff3b532fd57",
   "metadata": {},
   "outputs": [],
   "source": [
    "import os\n",
    "from ebooklib import epub\n",
    "from PIL import Image\n",
    "\n",
    "def extract_cover(epub_file):\n",
    "    book = epub.read_epub(epub_file)\n",
    "    cover_item = None\n",
    "\n",
    "    for item in book.items:\n",
    "        if \"cover\" in item.get_type():\n",
    "            cover_item = item\n",
    "            break\n",
    "\n",
    "    if cover_item:\n",
    "        cover_data = cover_item.content\n",
    "        img = Image.open(io.BytesIO(cover_data))\n",
    "        return img\n",
    "    else:\n",
    "        return None\n",
    "\n",
    "def process_epub_folder(folder_path, output_folder=\"covers\"):\n",
    "    os.makedirs(output_folder, exist_ok=True)\n",
    "\n",
    "    for filename in os.listdir(folder_path):\n",
    "        if filename.endswith(\".epub\"):\n",
    "            epub_file_path = os.path.join(folder_path, filename)\n",
    "            cover_img = extract_cover(epub_file_path)\n",
    "\n",
    "            if cover_img:\n",
    "                output_path = os.path.join(output_folder, f\"{os.path.splitext(filename)[0]}.png\")\n",
    "                cover_img.save(output_path)\n",
    "                print(f\"Cover extracted for {filename} and saved as {output_path}\")\n",
    "            else:\n",
    "                print(f\"No cover found for {filename}\")\n",
    "\n",
    "# Especifica la carpeta que contiene los archivos ePub\n",
    "carpeta_local = \"/home/javier/Descargas/meganmaxwelllibrosindependientesepub\"\n",
    "\n",
    "process_epub_folder(carpeta_local)\n"
   ]
  }
 ],
 "metadata": {
  "kernelspec": {
   "display_name": "Python 3 (ipykernel)",
   "language": "python",
   "name": "python3"
  },
  "language_info": {
   "codemirror_mode": {
    "name": "ipython",
    "version": 3
   },
   "file_extension": ".py",
   "mimetype": "text/x-python",
   "name": "python",
   "nbconvert_exporter": "python",
   "pygments_lexer": "ipython3",
   "version": "3.10.9"
  }
 },
 "nbformat": 4,
 "nbformat_minor": 5
}
