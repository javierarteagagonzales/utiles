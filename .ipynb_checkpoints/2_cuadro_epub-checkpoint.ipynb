{
 "cells": [
  {
   "cell_type": "code",
   "execution_count": 1,
   "id": "f7c85819-0168-4f5e-a90f-6644725f3f15",
   "metadata": {},
   "outputs": [
    {
     "name": "stdout",
     "output_type": "stream",
     "text": [
      "Requirement already satisfied: tabulate in /home/javier/anaconda3/lib/python3.10/site-packages (0.8.10)\n",
      "Requirement already satisfied: pandas in /home/javier/anaconda3/lib/python3.10/site-packages (1.5.3)\n",
      "Requirement already satisfied: python-dateutil>=2.8.1 in /home/javier/anaconda3/lib/python3.10/site-packages (from pandas) (2.8.2)\n",
      "Requirement already satisfied: pytz>=2020.1 in /home/javier/anaconda3/lib/python3.10/site-packages (from pandas) (2022.7)\n",
      "Requirement already satisfied: numpy>=1.21.0 in /home/javier/anaconda3/lib/python3.10/site-packages (from pandas) (1.23.5)\n",
      "Requirement already satisfied: six>=1.5 in /home/javier/anaconda3/lib/python3.10/site-packages (from python-dateutil>=2.8.1->pandas) (1.16.0)\n",
      "Note: you may need to restart the kernel to use updated packages.\n"
     ]
    }
   ],
   "source": [
    "pip install tabulate pandas"
   ]
  },
  {
   "cell_type": "code",
   "execution_count": null,
   "id": "67f645af-d4b4-4e2a-ba44-c030f406fe6e",
   "metadata": {},
   "outputs": [],
   "source": []
  },
  {
   "cell_type": "code",
   "execution_count": 2,
   "id": "fddf1ba3-d740-4c3f-a329-04247a13e246",
   "metadata": {},
   "outputs": [
    {
     "name": "stdout",
     "output_type": "stream",
     "text": [
      "Requirement already satisfied: EbookLib in /home/javier/anaconda3/lib/python3.10/site-packages (0.18)\n",
      "Requirement already satisfied: lxml in /home/javier/anaconda3/lib/python3.10/site-packages (from EbookLib) (4.9.1)\n",
      "Requirement already satisfied: six in /home/javier/anaconda3/lib/python3.10/site-packages (from EbookLib) (1.16.0)\n",
      "Note: you may need to restart the kernel to use updated packages.\n"
     ]
    }
   ],
   "source": [
    "pip install EbookLib"
   ]
  },
  {
   "cell_type": "code",
   "execution_count": 1,
   "id": "ffbfad5d-721c-41f8-9119-89cb856df105",
   "metadata": {},
   "outputs": [],
   "source": [
    "from ebooklib import epub\n",
    "from tabulate import tabulate\n",
    "import pandas as pd\n",
    "\n",
    "def extraer_metadatos_epub(ruta_archivo):\n",
    "    # Abre el archivo EPUB\n",
    "    libro = epub.read_epub(ruta_archivo)\n",
    "\n",
    "    # Crea un diccionario para almacenar los metadatos\n",
    "    metadatos = {\n",
    "        'Título': libro.get_metadata('DC', 'title'),\n",
    "        'Autores': ', '.join([autor[0] for autor in libro.get_metadata('DC', 'creator')]),\n",
    "        'Idioma': libro.get_metadata('DC', 'language'),\n",
    "        'Fecha de publicación': libro.get_metadata('DC', 'date'),\n",
    "        'Editorial': libro.get_metadata('DC', 'publisher'),\n",
    "        'Descripción': libro.get_metadata('DC', 'description'),\n",
    "        'Palabras clave': libro.get_metadata('DC', 'subject'),\n",
    "        'Derechos de autor': libro.get_metadata('DC', 'rights'),\n",
    "        'Identificador único': libro.get_metadata('DC', 'identifier'),\n",
    "    }\n",
    "\n",
    "    # Imprime la tabla de metadatos\n",
    "    tabla_metadatos = tabulate([metadatos], headers=\"keys\", tablefmt=\"pretty\")\n",
    "    print(tabla_metadatos)\n",
    "\n",
    "    # Extrae la portada si está disponible\n",
    "    portada = None\n",
    "    for item in libro.get_items():\n",
    "        if isinstance(item.get_type(), int):\n",
    "            continue  # Saltar elementos de tipo entero\n",
    "        if 'cover' in item.get_type().lower():\n",
    "            portada = item.get_content()\n",
    "            break\n",
    "    \n",
    "    if portada:\n",
    "        # Guarda la portada en un archivo (por ejemplo, 'portada.jpg')\n",
    "        with open('portada.jpg', 'wb') as archivo_portada:\n",
    "            archivo_portada.write(portada)\n",
    "        print(\"Portada guardada como 'portada.jpg'\")\n",
    "    else:\n",
    "        print(\"No se encontró información de portada en el archivo EPUB.\")\n",
    "\n",
    "    # Guarda los metadatos en un archivo CSV\n",
    "    df = pd.DataFrame([metadatos])\n",
    "    df.to_csv('metadatos.csv', index=False)\n",
    "    print(\"Metadatos guardados como 'metadatos.csv'\")\n",
    "\n",
    "# Ruta al archivo EPUB\n",
    "ruta_archivo_epub = '/home/javier/Descargas/Choque de reyes - George R. R. Martin.epub'"
   ]
  },
  {
   "cell_type": "code",
   "execution_count": 4,
   "id": "5ea5c1a7-56be-4312-888b-e2b7021b331e",
   "metadata": {},
   "outputs": [
    {
     "name": "stdout",
     "output_type": "stream",
     "text": [
      "+---------------------------+--------------------+--------------+----------------------------------------------------------------------------------------------------+--------------------+-----------------------------------------------------------------------------------------------------------------------------------------------------------------------------------------------------------------------------------------------------------------------------------------------------------------------------------------------------------------------------------------------------------------------------------------------------------------------------------------------------------------------------------------------------------------------------------------------------------------------------------------------------------------------------------------------------------------------------------------------------------------------------------------------------------------------------------------------------------------------------------------------------------------------------------+----------------+-------------------+---------------------------------------------------------------------------------------+\n",
      "|          Título           |      Autores       |    Idioma    |                                        Fecha de publicación                                        |     Editorial      |                                                                                                                                                                                                                                                                                                                                                                                                                                                            Descripción                                                                                                                                                                                                                                                                                                                                                                                                                                                            | Palabras clave | Derechos de autor |                                  Identificador único                                  |\n",
      "+---------------------------+--------------------+--------------+----------------------------------------------------------------------------------------------------+--------------------+-----------------------------------------------------------------------------------------------------------------------------------------------------------------------------------------------------------------------------------------------------------------------------------------------------------------------------------------------------------------------------------------------------------------------------------------------------------------------------------------------------------------------------------------------------------------------------------------------------------------------------------------------------------------------------------------------------------------------------------------------------------------------------------------------------------------------------------------------------------------------------------------------------------------------------------+----------------+-------------------+---------------------------------------------------------------------------------------+\n",
      "| [('Choque de reyes', {})] | George R.R. Martin | [('es', {})] | [('1998', {}), ('2011-06-17T16:00:00+00:00', {'{http://www.idpf.org/2007/opf}event': 'creation'})] | [('Gigamesh', {})] | [('Un cometa del color de la sangre hiende el cielo, cargado de malos augurios. Y hay razones sobradas para pensar así: los Siete Reinos se ven sacudidos por las luchas intestinas entre los nobles por la sucesión al Trono de Hierro. En la otra orilla del mar Angosto, la princesa Daenerys Targaryen conduce a su pueblo de jinetes salvajes a través del desierto. Y en los páramos helados del norte, más allá del Muro, un ejército implacable avanza hacia un territorio asolado por el caos y las guerras fratricidas.\\nGeorge R.R. Martin, con pulso firme y enérgico, nos deleita con un brillante despliegue de personajes, engranando una trama rica, densa y sorprendente. Nos vuelve testigos de luchas fratricidas, intrigas y traiciones palaciegas en una tierra maldita por la guerra, donde fuerzas ocultas se alzan de nuevo y acechan para reinar en las noches del largo invierno que se avecina.', {})] |       []       |        []         | [('9788493270223', {'id': 'BookId', '{http://www.idpf.org/2007/opf}scheme': 'ISBN'})] |\n",
      "+---------------------------+--------------------+--------------+----------------------------------------------------------------------------------------------------+--------------------+-----------------------------------------------------------------------------------------------------------------------------------------------------------------------------------------------------------------------------------------------------------------------------------------------------------------------------------------------------------------------------------------------------------------------------------------------------------------------------------------------------------------------------------------------------------------------------------------------------------------------------------------------------------------------------------------------------------------------------------------------------------------------------------------------------------------------------------------------------------------------------------------------------------------------------------+----------------+-------------------+---------------------------------------------------------------------------------------+\n",
      "No se encontró información de portada en el archivo EPUB.\n",
      "Metadatos guardados como 'metadatos.csv'\n"
     ]
    },
    {
     "name": "stderr",
     "output_type": "stream",
     "text": [
      "/home/javier/anaconda3/lib/python3.10/site-packages/ebooklib/epub.py:1395: UserWarning: In the future version we will turn default option ignore_ncx to True.\n",
      "  warnings.warn('In the future version we will turn default option ignore_ncx to True.')\n"
     ]
    }
   ],
   "source": [
    "# Llama a la función para extraer metadatos\n",
    "extraer_metadatos_epub(ruta_archivo_epub)"
   ]
  },
  {
   "cell_type": "code",
   "execution_count": null,
   "id": "db349617-ddce-4e69-8898-f5d64f689903",
   "metadata": {},
   "outputs": [],
   "source": []
  }
 ],
 "metadata": {
  "kernelspec": {
   "display_name": "Python 3 (ipykernel)",
   "language": "python",
   "name": "python3"
  },
  "language_info": {
   "codemirror_mode": {
    "name": "ipython",
    "version": 3
   },
   "file_extension": ".py",
   "mimetype": "text/x-python",
   "name": "python",
   "nbconvert_exporter": "python",
   "pygments_lexer": "ipython3",
   "version": "3.10.9"
  }
 },
 "nbformat": 4,
 "nbformat_minor": 5
}
