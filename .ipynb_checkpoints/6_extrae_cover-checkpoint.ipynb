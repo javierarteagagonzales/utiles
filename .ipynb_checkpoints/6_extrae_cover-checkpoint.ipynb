{
 "cells": [
  {
   "cell_type": "code",
   "execution_count": 2,
   "id": "9a81f2cf-b768-452c-925b-0dc25534ac31",
   "metadata": {},
   "outputs": [
    {
     "name": "stdout",
     "output_type": "stream",
     "text": [
      "Requirement already satisfied: EbookLib in /home/javier/anaconda3/lib/python3.10/site-packages (0.18)\n",
      "Requirement already satisfied: lxml in /home/javier/anaconda3/lib/python3.10/site-packages (from EbookLib) (4.9.1)\n",
      "Requirement already satisfied: six in /home/javier/anaconda3/lib/python3.10/site-packages (from EbookLib) (1.16.0)\n",
      "Requirement already satisfied: Pillow in /home/javier/anaconda3/lib/python3.10/site-packages (9.4.0)\n"
     ]
    }
   ],
   "source": [
    "!pip install EbookLib\n",
    "!pip install Pillow"
   ]
  },
  {
   "cell_type": "code",
   "execution_count": 5,
   "id": "d274a017-bc7d-4015-b281-f420f9dab56d",
   "metadata": {},
   "outputs": [
    {
     "ename": "FileNotFoundError",
     "evalue": "[Errno 2] No such file or directory: '/home/javier/Descargas/meganmaxwelllibrosindependientesepub/OEBPS/Images/cover.jpg'",
     "output_type": "error",
     "traceback": [
      "\u001b[0;31m---------------------------------------------------------------------------\u001b[0m",
      "\u001b[0;31mFileNotFoundError\u001b[0m                         Traceback (most recent call last)",
      "Cell \u001b[0;32mIn[5], line 38\u001b[0m\n\u001b[1;32m     35\u001b[0m ruta_epub \u001b[38;5;241m=\u001b[39m \u001b[38;5;124m'\u001b[39m\u001b[38;5;124m/home/javier/Descargas/meganmaxwelllibrosindependientesepub/2016(11).Megan Maxwell - Casi una novela.epub\u001b[39m\u001b[38;5;124m'\u001b[39m\n\u001b[1;32m     36\u001b[0m ruta_carpeta_destino \u001b[38;5;241m=\u001b[39m \u001b[38;5;124m'\u001b[39m\u001b[38;5;124m/home/javier/Descargas/meganmaxwelllibrosindependientesepub\u001b[39m\u001b[38;5;124m'\u001b[39m\n\u001b[0;32m---> 38\u001b[0m nombre_portada \u001b[38;5;241m=\u001b[39m \u001b[43mextraer_portada\u001b[49m\u001b[43m(\u001b[49m\u001b[43mruta_epub\u001b[49m\u001b[43m,\u001b[49m\u001b[43m \u001b[49m\u001b[43mruta_carpeta_destino\u001b[49m\u001b[43m)\u001b[49m\n\u001b[1;32m     40\u001b[0m \u001b[38;5;28;01mif\u001b[39;00m nombre_portada:\n\u001b[1;32m     41\u001b[0m   \u001b[38;5;28mprint\u001b[39m(\u001b[38;5;124mf\u001b[39m\u001b[38;5;124m\"\u001b[39m\u001b[38;5;124mLa portada se ha guardado como \u001b[39m\u001b[38;5;124m'\u001b[39m\u001b[38;5;132;01m{\u001b[39;00mnombre_portada\u001b[38;5;132;01m}\u001b[39;00m\u001b[38;5;124m'\u001b[39m\u001b[38;5;124m en la carpeta \u001b[39m\u001b[38;5;124m'\u001b[39m\u001b[38;5;132;01m{\u001b[39;00mruta_carpeta_destino\u001b[38;5;132;01m}\u001b[39;00m\u001b[38;5;124m'\u001b[39m\u001b[38;5;124m.\u001b[39m\u001b[38;5;124m\"\u001b[39m)\n",
      "Cell \u001b[0;32mIn[5], line 31\u001b[0m, in \u001b[0;36mextraer_portada\u001b[0;34m(ruta_epub, ruta_carpeta_destino)\u001b[0m\n\u001b[1;32m     29\u001b[0m     \u001b[38;5;28;01mwith\u001b[39;00m archivo_epub\u001b[38;5;241m.\u001b[39mopen(nombre_portada) \u001b[38;5;28;01mas\u001b[39;00m archivo_imagen:\n\u001b[1;32m     30\u001b[0m       imagen \u001b[38;5;241m=\u001b[39m Image\u001b[38;5;241m.\u001b[39mopen(archivo_imagen)\n\u001b[0;32m---> 31\u001b[0m       \u001b[43mimagen\u001b[49m\u001b[38;5;241;43m.\u001b[39;49m\u001b[43msave\u001b[49m\u001b[43m(\u001b[49m\u001b[43mos\u001b[49m\u001b[38;5;241;43m.\u001b[39;49m\u001b[43mpath\u001b[49m\u001b[38;5;241;43m.\u001b[39;49m\u001b[43mjoin\u001b[49m\u001b[43m(\u001b[49m\u001b[43mruta_carpeta_destino\u001b[49m\u001b[43m,\u001b[49m\u001b[43m \u001b[49m\u001b[43mnombre_portada\u001b[49m\u001b[43m)\u001b[49m\u001b[43m)\u001b[49m\n\u001b[1;32m     33\u001b[0m \u001b[38;5;28;01mreturn\u001b[39;00m nombre_portada\n",
      "File \u001b[0;32m~/anaconda3/lib/python3.10/site-packages/PIL/Image.py:2428\u001b[0m, in \u001b[0;36mImage.save\u001b[0;34m(self, fp, format, **params)\u001b[0m\n\u001b[1;32m   2426\u001b[0m         fp \u001b[38;5;241m=\u001b[39m builtins\u001b[38;5;241m.\u001b[39mopen(filename, \u001b[38;5;124m\"\u001b[39m\u001b[38;5;124mr+b\u001b[39m\u001b[38;5;124m\"\u001b[39m)\n\u001b[1;32m   2427\u001b[0m     \u001b[38;5;28;01melse\u001b[39;00m:\n\u001b[0;32m-> 2428\u001b[0m         fp \u001b[38;5;241m=\u001b[39m \u001b[43mbuiltins\u001b[49m\u001b[38;5;241;43m.\u001b[39;49m\u001b[43mopen\u001b[49m\u001b[43m(\u001b[49m\u001b[43mfilename\u001b[49m\u001b[43m,\u001b[49m\u001b[43m \u001b[49m\u001b[38;5;124;43m\"\u001b[39;49m\u001b[38;5;124;43mw+b\u001b[39;49m\u001b[38;5;124;43m\"\u001b[39;49m\u001b[43m)\u001b[49m\n\u001b[1;32m   2430\u001b[0m \u001b[38;5;28;01mtry\u001b[39;00m:\n\u001b[1;32m   2431\u001b[0m     save_handler(\u001b[38;5;28mself\u001b[39m, fp, filename)\n",
      "\u001b[0;31mFileNotFoundError\u001b[0m: [Errno 2] No such file or directory: '/home/javier/Descargas/meganmaxwelllibrosindependientesepub/OEBPS/Images/cover.jpg'"
     ]
    }
   ],
   "source": [
    "import os\n",
    "import zipfile\n",
    "from PIL import Image\n",
    "\n",
    "def extraer_portada(ruta_epub, ruta_carpeta_destino):\n",
    "  \"\"\"\n",
    "  Extrae la portada de un archivo EPUB y la guarda en una carpeta local.\n",
    "\n",
    "  Args:\n",
    "    ruta_epub: Ruta al archivo EPUB.\n",
    "    ruta_carpeta_destino: Ruta a la carpeta donde se guardará la portada.\n",
    "\n",
    "  Returns:\n",
    "    Nombre del archivo de la portada.\n",
    "  \"\"\"\n",
    "\n",
    "  # Abrir el archivo EPUB como un archivo ZIP.\n",
    "  with zipfile.ZipFile(ruta_epub, 'r') as archivo_epub:\n",
    "\n",
    "    # Buscar el archivo de la portada.\n",
    "    nombre_portada = None\n",
    "    for archivo in archivo_epub.namelist():\n",
    "      if 'cover' in archivo.lower():\n",
    "        nombre_portada = archivo\n",
    "        break\n",
    "\n",
    "    # Si se encontró el archivo de la portada, extraerlo.\n",
    "    if nombre_portada:\n",
    "      with archivo_epub.open(nombre_portada) as archivo_imagen:\n",
    "        imagen = Image.open(archivo_imagen)\n",
    "        imagen.save(os.path.join(ruta_carpeta_destino, nombre_portada))\n",
    "\n",
    "  return nombre_portada\n",
    "\n",
    "ruta_epub = '/home/javier/Descargas/meganmaxwelllibrosindependientesepub/2016(11).Megan Maxwell - Casi una novela.epub'\n",
    "ruta_carpeta_destino = '/home/javier/Descargas/meganmaxwelllibrosindependientesepub'\n",
    "\n",
    "nombre_portada = extraer_portada(ruta_epub, ruta_carpeta_destino)\n",
    "\n",
    "if nombre_portada:\n",
    "  print(f\"La portada se ha guardado como '{nombre_portada}' en la carpeta '{ruta_carpeta_destino}'.\")\n",
    "else:\n",
    "  print(\"No se encontró una portada en el archivo EPUB.\")\n",
    "\n",
    "\n",
    "\n",
    "\n",
    "\n"
   ]
  }
 ],
 "metadata": {
  "kernelspec": {
   "display_name": "Python 3 (ipykernel)",
   "language": "python",
   "name": "python3"
  },
  "language_info": {
   "codemirror_mode": {
    "name": "ipython",
    "version": 3
   },
   "file_extension": ".py",
   "mimetype": "text/x-python",
   "name": "python",
   "nbconvert_exporter": "python",
   "pygments_lexer": "ipython3",
   "version": "3.10.9"
  }
 },
 "nbformat": 4,
 "nbformat_minor": 5
}
