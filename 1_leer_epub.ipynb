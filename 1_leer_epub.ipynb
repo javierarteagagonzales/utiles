{
 "cells": [
  {
   "cell_type": "code",
   "execution_count": 2,
   "id": "ddac2fac-ba17-4b02-88d5-bead200d4e80",
   "metadata": {},
   "outputs": [
    {
     "name": "stdout",
     "output_type": "stream",
     "text": [
      "Collecting EbookLib\n",
      "  Downloading EbookLib-0.18.tar.gz (115 kB)\n",
      "\u001b[2K     \u001b[38;2;114;156;31m━━━━━━━━━━━━━━━━━━━━━━━━━━━━━━━━━━━━━\u001b[0m \u001b[32m115.5/115.5 kB\u001b[0m \u001b[31m393.5 kB/s\u001b[0m eta \u001b[36m0:00:00\u001b[0m[36m0:00:01\u001b[0mm eta \u001b[36m0:00:01\u001b[0m\n",
      "\u001b[?25h  Preparing metadata (setup.py) ... \u001b[?25ldone\n",
      "\u001b[?25hRequirement already satisfied: lxml in /home/javier/anaconda3/lib/python3.10/site-packages (from EbookLib) (4.9.1)\n",
      "Requirement already satisfied: six in /home/javier/anaconda3/lib/python3.10/site-packages (from EbookLib) (1.16.0)\n",
      "Building wheels for collected packages: EbookLib\n",
      "  Building wheel for EbookLib (setup.py) ... \u001b[?25ldone\n",
      "\u001b[?25h  Created wheel for EbookLib: filename=EbookLib-0.18-py3-none-any.whl size=38777 sha256=28955557286602008e26f96f8e863afc41c03fa8e5e90551f8097b2c1bdcdeea\n",
      "  Stored in directory: /home/javier/.cache/pip/wheels/73/b5/16/d83e419ba7046bfac8862cc8d7e3277c6276d5085ad1aa9ab7\n",
      "Successfully built EbookLib\n",
      "Installing collected packages: EbookLib\n",
      "Successfully installed EbookLib-0.18\n",
      "Note: you may need to restart the kernel to use updated packages.\n"
     ]
    }
   ],
   "source": [
    "pip install EbookLib"
   ]
  },
  {
   "cell_type": "code",
   "execution_count": 20,
   "id": "1dd6bf90-b2c5-4cb0-bda7-7dcc04d766bd",
   "metadata": {},
   "outputs": [],
   "source": [
    "from ebooklib import epub"
   ]
  },
  {
   "cell_type": "code",
   "execution_count": 21,
   "id": "e65e1b44-ebcb-4b80-bc56-e76a91eaaa49",
   "metadata": {},
   "outputs": [],
   "source": [
    "def extraer_metadatos_epub(ruta_archivo):\n",
    "    # Abre el archivo EPUB\n",
    "    libro = epub.read_epub(ruta_archivo)\n",
    "\n",
    "    # Imprime algunos metadatos básicos\n",
    "    print(\"Título:\", libro.get_metadata('DC', 'title'))\n",
    "    print(\"Autor(es):\", ', '.join([autor[0] for autor in libro.get_metadata('DC', 'creator')]))\n",
    "    print(\"Idioma:\", libro.get_metadata('DC', 'language'))\n",
    "    print(\"Fecha de publicación:\", libro.get_metadata('DC', 'date'))\n",
    "    print(\"Editorial:\", libro.get_metadata('DC', 'publisher'))\n",
    "    print(\"Descripción:\", libro.get_metadata('DC', 'description'))\n",
    "    print(\"Palabras clave:\", libro.get_metadata('DC', 'subject'))\n",
    "    print(\"Derechos de autor:\", libro.get_metadata('DC', 'rights'))\n",
    "    print(\"Identificador único:\", libro.get_metadata('DC', 'identifier'))\n",
    "\n",
    "    # Extrae la portada si está disponible\n",
    "    portada = None\n",
    "    for item in libro.get_items():\n",
    "        if isinstance(item.get_type(), int):\n",
    "            continue  # Saltar elementos de tipo entero\n",
    "        if 'cover' in item.get_type().lower():\n",
    "            portada = item.get_content()\n",
    "            break\n",
    "    \n",
    "    if portada:\n",
    "        # Guarda la portada en un archivo (por ejemplo, 'portada.jpg')\n",
    "        with open('portada.jpg', 'wb') as archivo_portada:\n",
    "            archivo_portada.write(portada)\n",
    "        print(\"Portada guardada como 'portada.jpg'\")\n",
    "    else:\n",
    "        print(\"No se encontró información de portada en el archivo EPUB.\")\n",
    "    \n",
    "    # Puedes imprimir más metadatos según tus necesidades\n",
    "# Ruta al archivo EPUB\n",
    "ruta_archivo_epub = '/home/javier/Descargas/Choque de reyes - George R. R. Martin.epub'\n"
   ]
  },
  {
   "cell_type": "code",
   "execution_count": 14,
   "id": "cb00b3ab-bbe6-4d61-b61d-53e185122858",
   "metadata": {},
   "outputs": [
    {
     "name": "stdout",
     "output_type": "stream",
     "text": [
      "Título: [('100 preguntas básicas sobre la ciencia', {})]\n",
      "Autor(es): Isaac Asimov\n",
      "Idioma: [('es', {})]\n",
      "Fecha de publicación: [('1977-01-01', {'{http://www.idpf.org/2007/opf}event': 'creation'}), ('1997-11-01', {'{http://www.idpf.org/2007/opf}event': 'publication'})]\n",
      "Editorial: []\n",
      "Descripción: [('Este libro es una recopilación de las respuestas a 100 preguntas que le fueron propuestas a Asimov durante los años en los que escribió una columna en la revista Science Digest. Es un libro “aperitivo” para adentrarse en la física, aunque en algunas cuestiones vemos que el tiempo ha pasado desde que las contestó y ahora conocemos más respuestas. Asimov empieza explicándonos el método científico, indispensable para hacer teorías físicas que se sustenten y a continuación plantea diferentes cuestiones relacionadas con el origen del universo, su evolución y composición. También aborda ciertas cuestiones relacionadas con la materia: la división en partículas más pequeñas que se conocen, tipos de materia, qué es la temperatura… Asimismo nos adentra en las leyes físicas de este universo (fuerzas, tiempo, relatividad, mecánica cuántica). Finalmente, encontramos 10 preguntas relacionadas con la biología y el ser humano. La última pregunta, aunque no es de física, impacta: nos explica por qué debemos morir.', {})]\n",
      "Palabras clave: []\n",
      "Derechos de autor: []\n",
      "Identificador único: [('awp2011-06-10T15:29:09Z', {'id': 'BookId'}), ('978-84-206-1663-6', {'{http://www.idpf.org/2007/opf}scheme': 'ISBN'})]\n",
      "No se encontró información de portada en el archivo EPUB.\n"
     ]
    }
   ],
   "source": [
    "# Llama a la función para extraer metadatos\n",
    "extraer_metadatos_epub(ruta_archivo_epub)"
   ]
  },
  {
   "cell_type": "code",
   "execution_count": null,
   "id": "2b04f42a-88ad-4a90-8166-8dab7a52cf97",
   "metadata": {},
   "outputs": [],
   "source": []
  }
 ],
 "metadata": {
  "kernelspec": {
   "display_name": "Python 3 (ipykernel)",
   "language": "python",
   "name": "python3"
  },
  "language_info": {
   "codemirror_mode": {
    "name": "ipython",
    "version": 3
   },
   "file_extension": ".py",
   "mimetype": "text/x-python",
   "name": "python",
   "nbconvert_exporter": "python",
   "pygments_lexer": "ipython3",
   "version": "3.10.9"
  }
 },
 "nbformat": 4,
 "nbformat_minor": 5
}
