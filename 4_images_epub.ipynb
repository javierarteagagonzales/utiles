{
 "cells": [
  {
   "cell_type": "code",
   "execution_count": 1,
   "id": "4dfad11c-f676-45c3-a5a3-9cafc3228ce9",
   "metadata": {},
   "outputs": [
    {
     "name": "stdout",
     "output_type": "stream",
     "text": [
      "Requirement already satisfied: EbookLib in /home/javier/anaconda3/lib/python3.10/site-packages (0.18)\n",
      "Requirement already satisfied: Pillow in /home/javier/anaconda3/lib/python3.10/site-packages (9.4.0)\n",
      "Requirement already satisfied: lxml in /home/javier/anaconda3/lib/python3.10/site-packages (from EbookLib) (4.9.1)\n",
      "Requirement already satisfied: six in /home/javier/anaconda3/lib/python3.10/site-packages (from EbookLib) (1.16.0)\n",
      "Note: you may need to restart the kernel to use updated packages.\n"
     ]
    }
   ],
   "source": [
    "pip install EbookLib Pillow"
   ]
  },
  {
   "cell_type": "code",
   "execution_count": 4,
   "id": "6a5e496a-6260-4279-bd43-9959028171f4",
   "metadata": {},
   "outputs": [],
   "source": [
    "import os\n",
    "from ebooklib import epub\n",
    "from IPython.display import Image, display\n",
    "from PIL import Image as PILImage\n",
    "from io import BytesIO\n",
    "\n",
    "def extraer_portadas_carpeta(carpeta):\n",
    "    for archivo in os.listdir(carpeta):\n",
    "        if archivo.endswith(\".epub\"):\n",
    "            ruta_completa = os.path.join(carpeta, archivo)\n",
    "            extraer_portada_epub(ruta_completa)\n",
    "\n",
    "def extraer_portada_epub(ruta_epub):\n",
    "    libro = epub.read_epub(ruta_epub)\n",
    "\n",
    "    for item in libro.get_items():\n",
    "        if hasattr(item, 'media_type') and ('cover' in item.media_type or 'image' in item.media_type):\n",
    "            contenido = item.content\n",
    "\n",
    "            # Encuentra la etiqueta de la portada en el contenido\n",
    "            if b'<cover-image' in contenido:\n",
    "                inicio = contenido.find(b'<cover-image')  # Encuentra el inicio de la etiqueta\n",
    "                fin = contenido.find(b'</cover-image>') + len(b'</cover-image>')  # Encuentra el final de la etiqueta\n",
    "\n",
    "                # Extrae la parte de la portada del contenido\n",
    "                portada_contenido = contenido[inicio:fin]\n",
    "\n",
    "                # Muestra la imagen de la portada utilizando IPython.display\n",
    "                imagen = PILImage.open(BytesIO(portada_contenido))\n",
    "                display(imagen)\n",
    "\n",
    "# Especifica la carpeta que contiene los archivos EPUB\n",
    "carpeta_epub = '/home/javier/Descargas/meganmaxwelllibrosindependientesepub'\n",
    "extraer_portadas_carpeta(carpeta_epub)\n",
    "\n"
   ]
  }
 ],
 "metadata": {
  "kernelspec": {
   "display_name": "Python 3 (ipykernel)",
   "language": "python",
   "name": "python3"
  },
  "language_info": {
   "codemirror_mode": {
    "name": "ipython",
    "version": 3
   },
   "file_extension": ".py",
   "mimetype": "text/x-python",
   "name": "python",
   "nbconvert_exporter": "python",
   "pygments_lexer": "ipython3",
   "version": "3.10.9"
  }
 },
 "nbformat": 4,
 "nbformat_minor": 5
}
